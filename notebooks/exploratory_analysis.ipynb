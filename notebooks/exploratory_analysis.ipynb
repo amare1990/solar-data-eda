{
 "cells": [
  {
   "cell_type": "code",
   "execution_count": 13,
   "id": "0a9a835e-03d8-4d1b-bce0-d8ae444b192f",
   "metadata": {},
   "outputs": [],
   "source": [
    "import pandas as pd\n",
    "import numpy as np\n",
    "import matplotlib.pyplot as plt\n",
    "import seaborn as sb"
   ]
  },
  {
   "cell_type": "code",
   "execution_count": 14,
   "id": "37e2cb35-24df-4b76-be1d-09e3c35f6040",
   "metadata": {},
   "outputs": [],
   "source": [
    "import sys\n",
    "import os\n",
    "\n",
    "# Add the src directory to sys.path\n",
    "sys.path.append(os.path.abspath(os.path.join(os.getcwd(), '..', 'src')))\n",
    "\n",
    "from eda import load_datasets\n"
   ]
  },
  {
   "cell_type": "code",
   "execution_count": 15,
   "id": "319fbdde-771a-4206-b0b9-2a86940cbe50",
   "metadata": {},
   "outputs": [],
   "source": [
    "# # Import the load_datasets function from src/eda.py\n",
    "# from src.eda import load_datasets\n",
    "\n",
    "# Load datasets\n",
    "benin_df, sierra_df, togo_df = load_datasets()"
   ]
  },
  {
   "cell_type": "code",
   "execution_count": 19,
   "id": "0f51ef4b-3a93-48bf-8b32-f074e81420d3",
   "metadata": {},
   "outputs": [
    {
     "ename": "SyntaxError",
     "evalue": "f-string expression part cannot include a backslash (408202989.py, line 3)",
     "output_type": "error",
     "traceback": [
      "\u001b[0;36m  Cell \u001b[0;32mIn[19], line 3\u001b[0;36m\u001b[0m\n\u001b[0;31m    print(f\"Statistics summary for dataset in Benign:{\\n} {summary_statistics(benin_df)}\")\u001b[0m\n\u001b[0m          ^\u001b[0m\n\u001b[0;31mSyntaxError\u001b[0m\u001b[0;31m:\u001b[0m f-string expression part cannot include a backslash\n"
     ]
    }
   ],
   "source": [
    "from eda import summary_statistics\n",
    "print(\"\\n\")\n",
    "print(f\"Statistics summary for dataset in Benign:{\\n} {summary_statistics(benin_df)}\")\n",
    "print(\"\\n\")\n",
    "print(\"\\n\")\n",
    "print(f\"Statistics summary for dataset in Sier Liyon:\\n {summary_statistics(sierra_df)}\")\n",
    "print(\"\\n\")\n",
    "print(\"\\n\")\n",
    "print(f\"Statistics summary for dataset in Togo:\\n {summary_statistics(togo_df)}\")"
   ]
  },
  {
   "cell_type": "code",
   "execution_count": null,
   "id": "fc1d7f58-44a2-4476-88d3-14aefeaea4d9",
   "metadata": {},
   "outputs": [],
   "source": []
  }
 ],
 "metadata": {
  "kernelspec": {
   "display_name": "Python 3 (ipykernel)",
   "language": "python",
   "name": "python3"
  },
  "language_info": {
   "codemirror_mode": {
    "name": "ipython",
    "version": 3
   },
   "file_extension": ".py",
   "mimetype": "text/x-python",
   "name": "python",
   "nbconvert_exporter": "python",
   "pygments_lexer": "ipython3",
   "version": "3.8.10"
  }
 },
 "nbformat": 4,
 "nbformat_minor": 5
}
